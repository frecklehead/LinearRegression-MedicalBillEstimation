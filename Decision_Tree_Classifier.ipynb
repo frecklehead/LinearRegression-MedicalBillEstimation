{
  "nbformat": 4,
  "nbformat_minor": 0,
  "metadata": {
    "colab": {
      "provenance": [],
      "authorship_tag": "ABX9TyN0OXPGyqHJ5bOtimG93QwT",
      "include_colab_link": true
    },
    "kernelspec": {
      "name": "python3",
      "display_name": "Python 3"
    },
    "language_info": {
      "name": "python"
    }
  },
  "cells": [
    {
      "cell_type": "markdown",
      "metadata": {
        "id": "view-in-github",
        "colab_type": "text"
      },
      "source": [
        "<a href=\"https://colab.research.google.com/github/frecklehead/LinearRegression-from-scratch/blob/master/Decision_Tree_Classifier.ipynb\" target=\"_parent\"><img src=\"https://colab.research.google.com/assets/colab-badge.svg\" alt=\"Open In Colab\"/></a>"
      ]
    },
    {
      "cell_type": "code",
      "source": [
        "import pandas as pd\n",
        "import numpy as np\n",
        "import matplotlib.pyplot as plt\n",
        "import seaborn as sns"
      ],
      "metadata": {
        "id": "C5sN8pyGiokp"
      },
      "execution_count": 3,
      "outputs": []
    },
    {
      "cell_type": "code",
      "source": [
        "# class Node():\n",
        "#     def __init__(self, feature_index=None, threshold=None, left=None, right=None, info_gain=None, value=None):\n",
        "#         self.feature_index = feature_index\n",
        "#         self.threshold = threshold\n",
        "#         self.left = left\n",
        "#         self.right = right\n",
        "#         self.info_gain = info_gain\n",
        "#         self.value = value"
      ],
      "metadata": {
        "id": "MO8P4lBxijSX"
      },
      "execution_count": 1,
      "outputs": []
    },
    {
      "cell_type": "code",
      "source": [],
      "metadata": {
        "id": "ENw7OSCfjvUu"
      },
      "execution_count": null,
      "outputs": []
    },
    {
      "cell_type": "code",
      "source": [
        "# class DecisionTreeClassifier():\n",
        "#     def __init__(self, min_samples_split=2, max_depth=2):\n",
        "#         self.root = None\n",
        "#         self.min_samples_split = min_samples_split\n",
        "#         self.max_depth = max_depth\n",
        "\n",
        "#     def build_tree(self, dataset, curr_depth=0):\n",
        "#         X, Y = dataset[:,:-1], dataset[:,-1]\n",
        "#         num_samples, num_features = np.shape(X)\n",
        "#         if num_samples >= self.min_samples_split and curr_depth <= self.max_depth:\n",
        "#             best_split = self.get_best_split(dataset, num_samples, num_features)\n",
        "#             if best_split[\"info_gain\"] > 0:\n",
        "#                 left_subtree = self.build_tree(best_split[\"dataset_left\"], curr_depth + 1)\n",
        "#                 right_subtree = self.build_tree(best_split[\"dataset_right\"], curr_depth + 1)\n",
        "#                 return Node(best_split[\"feature_index\"], best_split[\"threshold\"], left_subtree, right_subtree, best_split[\"info_gain\"])\n",
        "#         leaf_value = self.calculate_leaf_value(Y)\n",
        "#         return Node(value=leaf_value)\n",
        "\n",
        "#     def get_best_split(self, dataset, num_samples, num_features):\n",
        "#         best_split = {}\n",
        "#         max_info_gain = -float(\"inf\")\n",
        "#         for feature_index in range(num_features):\n",
        "#             feature_values = dataset[:, feature_index]\n",
        "#             possible_thresholds = np.unique(feature_values)\n",
        "#             for threshold in possible_thresholds:\n",
        "#                 dataset_left, dataset_right = self.split(dataset, feature_index, threshold)\n",
        "#                 if len(dataset_left) > 0 and len(dataset_right) > 0:\n",
        "#                     y, left_y, right_y = dataset[:, -1], dataset_left[:, -1], dataset_right[:, -1]\n",
        "#                     curr_info_gain = self.information_gain(y, left_y, right_y, \"gini\")\n",
        "#                     if curr_info_gain > max_info_gain:\n",
        "#                         best_split[\"feature_index\"] = feature_index\n",
        "#                         best_split[\"threshold\"] = threshold\n",
        "#                         best_split[\"dataset_left\"] = dataset_left\n",
        "#                         best_split[\"dataset_right\"] = dataset_right\n",
        "#                         best_split[\"info_gain\"] = curr_info_gain\n",
        "#                         max_info_gain = curr_info_gain\n",
        "#         return best_split\n",
        "\n",
        "#     def split(self, dataset, feature_index, threshold):\n",
        "#         dataset_left = np.array([row for row in dataset if row[feature_index] <= threshold])\n",
        "#         dataset_right = np.array([row for row in dataset if row[feature_index] > threshold])\n",
        "#         return dataset_left, dataset_right\n",
        "\n",
        "#     def information_gain(self, parent, l_child, r_child, mode=\"entropy\"):\n",
        "#         weight_l = len(l_child) / len(parent)\n",
        "#         weight_r = len(r_child) / len(parent)\n",
        "#         if mode == \"gini\":\n",
        "#             gain = self.gini_index(parent) - (weight_l * self.gini_index(l_child) + weight_r * self.gini_index(r_child))\n",
        "#         else:\n",
        "#             gain = self.entropy(parent) - (weight_l * self.entropy(l_child) + weight_r * self.entropy(r_child))\n",
        "#         return gain\n",
        "\n",
        "#     def entropy(self, y):\n",
        "#         class_labels = np.unique(y)\n",
        "#         entropy = 0\n",
        "#         for cls in class_labels:\n",
        "#             p_cls = len(y[y == cls]) / len(y)\n",
        "#             entropy += -p_cls * np.log2(p_cls)\n",
        "#         return entropy\n",
        "\n",
        "#     def gini_index(self, y):\n",
        "#         class_labels = np.unique(y)\n",
        "#         gini = 0\n",
        "#         for cls in class_labels:\n",
        "#             p_cls = len(y[y == cls]) / len(y)\n",
        "#             gini += p_cls**2\n",
        "#         return 1 - gini\n",
        "\n",
        "#     def calculate_leaf_value(self, Y):\n",
        "#         Y = list(Y)\n",
        "#         return max(Y, key=Y.count)\n",
        "\n",
        "#     def print_tree(self, tree=None, indent=\" \"):\n",
        "#         if not tree:\n",
        "#             tree = self.root\n",
        "#         if tree.value is not None:\n",
        "#             print(tree.value)\n",
        "#         else:\n",
        "#             print(\"X_\" + str(tree.feature_index), \"<=\", tree.threshold, \"?\", tree.info_gain)\n",
        "#             print(\"%sleft:\" % (indent), end=\"\")\n",
        "#             self.print_tree(tree.left, indent + indent)\n",
        "#             print(\"%sright:\" % (indent), end=\"\")\n",
        "#             self.print_tree(tree.right, indent + indent)\n",
        "\n",
        "#     def fit(self, X, Y):\n",
        "#         dataset = np.concatenate((X, Y), axis=1)\n",
        "#         self.root = self.build_tree(dataset)\n",
        "\n",
        "#     def predict(self, X):\n",
        "#         preditions = [self.make_prediction(x, self.root) for x in X]\n",
        "#         return preditions\n",
        "\n",
        "#     def make_prediction(self, x, tree):\n",
        "#         if tree.value is not None:\n",
        "#             return tree.value\n",
        "#         feature_val = x[tree.feature_index]\n",
        "#         if feature_val <= tree.threshold:\n",
        "#             return self.make_prediction(x, tree.left)\n",
        "#         else:\n",
        "#             return self.make_prediction(x, tree.right)\n"
      ],
      "metadata": {
        "id": "m_hAmyJpikhq"
      },
      "execution_count": 2,
      "outputs": []
    },
    {
      "cell_type": "code",
      "execution_count": null,
      "metadata": {
        "id": "Udnxxru8iOBy"
      },
      "outputs": [],
      "source": [
        "\n",
        "class Node():\n",
        "  #creating the constructor\n",
        "  def __init__(self,feature_index=None,threshold=None,left=None,right=None,info_gain=None,value=None):\n",
        "    #every node has these values for us to work with\n",
        "    self.feature_index=feature_index #index of the feature of your data eg:x<4 xis feature 4 is threshold\n",
        "    self.threshold=threshold\n",
        "    self.left=left #left condition\n",
        "    self.right=right#right condition\n",
        "    self.info_gain=info_gain #parameter to know which is the best threshold  , 0 entropy best\n",
        "    self.value=value #everyleaf node's value\n",
        "\n"
      ]
    },
    {
      "cell_type": "code",
      "source": [
        "class Decision_Tree_Classifier():\n",
        "  def __init__(self, min_samples_split=2,max_depth=2):#so the tree's every node should have atlest of 2 samples to split.\n",
        "    self.root=None#referencing to the root var that has a empty tree yrt to be built\n",
        "    self.min_samples_split=min_samples_split\n",
        "    self.max_depth=max_depth#passing attribute to the object lol\n",
        "\n",
        "  #building the tree\n",
        "  def build_tree(self,dataset,curr_depth=0):#ovio the dataset, current depth of the tree to keep track of the position in the tree\n",
        "    X,Y=dataset[:,:-1],dataset[:,-1]# spliting the dataseet into features and targets\n",
        "    num_samples,num_features=np.shape(X) #rows and columns\n",
        "     # splitting the data into the tree nodes\n",
        "    if num_samples>=self.min_samples_split and curr_depth<=self.max_depth:\n",
        "      best_split=self.get_best_split(dataset,num_samples,num_features )#this function returns the threshold,feature_index,gini,ig,dataset_left,dataset_right etc\n",
        "      if best_split[\"info_gain\"]>0:# if the gain is more mens more randomness you need to further split into left and right child\n",
        "        left_subtree=self.build_tree(best_split[\"dataset\"],curr_depth+1)#recursion\n",
        "        right_subtree=self.build_tree(best_split[\"dataset_right\"],curr_depth+1)\n",
        "        return Node(best_split[\"feature_index\"],best_split[\"threshold\",left_subtree,right_subtree,best_split[\"info_gain\"]])\n",
        "\n",
        "    leaf_value=self.calculate_leaf_value(Y)\n",
        "    return Node(value=leaf_value)\n",
        "\n",
        "  def get_best_split(self,dataset,num_samples,num_features):\n",
        "    best_split={}#creating this dictionary\n",
        "    max_info_gain=-float(\"inf\")#minus infinity\n",
        "\n",
        "\n",
        "\n",
        "\n"
      ],
      "metadata": {
        "id": "ryk3FoWRl1f8"
      },
      "execution_count": 4,
      "outputs": []
    }
  ]
}