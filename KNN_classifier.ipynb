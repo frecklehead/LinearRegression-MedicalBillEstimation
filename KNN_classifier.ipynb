{
  "nbformat": 4,
  "nbformat_minor": 0,
  "metadata": {
    "colab": {
      "provenance": [],
      "authorship_tag": "ABX9TyPHjd81xFtjIzbJWgPORBzV",
      "include_colab_link": true
    },
    "kernelspec": {
      "name": "python3",
      "display_name": "Python 3"
    },
    "language_info": {
      "name": "python"
    }
  },
  "cells": [
    {
      "cell_type": "markdown",
      "metadata": {
        "id": "view-in-github",
        "colab_type": "text"
      },
      "source": [
        "<a href=\"https://colab.research.google.com/github/frecklehead/ML-from-scratch/blob/master/KNN_classifier.ipynb\" target=\"_parent\"><img src=\"https://colab.research.google.com/assets/colab-badge.svg\" alt=\"Open In Colab\"/></a>"
      ]
    },
    {
      "cell_type": "code",
      "execution_count": null,
      "metadata": {
        "id": "mDxwRqL-3GSh"
      },
      "outputs": [],
      "source": [
        "import numpy as np\n",
        "import pandas as pd"
      ]
    },
    {
      "cell_type": "code",
      "source": [
        "class KNN_Classifier():\n",
        "  def __init__(self, distance_metric):\n",
        "    self.distance_metric = distance_metric\n",
        "\n",
        "  def get_distance_metric(self, training_data_point, test_data_point):\n",
        "    if self.distance_metric == 'euclidean':\n",
        "      dist = 0\n",
        "      for i in range(len(training_data_point) - 1):\n",
        "        dist += (training_data_point[i] - test_data_point[i]) ** 2\n",
        "      return np.sqrt(dist)\n",
        "\n",
        "    elif self.distance_metric == 'manhattan':\n",
        "      dist = 0\n",
        "      for i in range(len(training_data_point) - 1):\n",
        "        dist += abs(training_data_point[i] - test_data_point[i])\n",
        "      return dist\n",
        "\n",
        "  def nearest_neighbors(self, X_train, test_data, k):\n",
        "    distance_list = []\n",
        "    for training_data in X_train:\n",
        "      distance = self.get_distance_metric(training_data, test_data)\n",
        "      distance_list.append((training_data, distance))\n",
        "    distance_list.sort(key=lambda x: x[1])\n",
        "\n",
        "    neighbors_list = []\n",
        "    for j in range(k):\n",
        "      neighbors_list.append(distance_list[j][0])\n",
        "\n",
        "    return neighbors_list\n",
        "\n",
        "  def predict(self, X_train, test_data, k):\n",
        "    neighbors = self.nearest_neighbors(X_train, test_data, k)\n",
        "    label = []\n",
        "    for data in neighbors:\n",
        "      label.append(data[-1])\n",
        "    return statistics.mode(label)\n"
      ],
      "metadata": {
        "id": "ZmaFLqIR3Kzq"
      },
      "execution_count": null,
      "outputs": []
    }
  ]
}